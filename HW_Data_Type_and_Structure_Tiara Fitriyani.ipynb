{
 "cells": [
  {
   "cell_type": "code",
   "execution_count": 11,
   "id": "66029196",
   "metadata": {},
   "outputs": [],
   "source": [
    "import numpy as np"
   ]
  },
  {
   "cell_type": "markdown",
   "id": "c7a1ffa7",
   "metadata": {},
   "source": [
    "### Soal Nomor 1: Create a Function to Check Prime Number"
   ]
  },
  {
   "cell_type": "markdown",
   "id": "7cfb8c3c",
   "metadata": {},
   "source": [
    "Buatlah sebuah fungsi yang mengecheck apakah suatu bilangan adalah prime number atau bukan. Silakan cari di google jika membutuhkan definisi dari 'bilangan prima'. \n",
    "\n",
    "Jika angka input adalah bilangan prima, return ```True```, jika tidak, return ```False```. \n",
    "\n",
    "Contoh:\n",
    "\n",
    "```prime_checker(5) = True```\n",
    "\n",
    "```prime_checker(12) = False```"
   ]
  },
  {
   "cell_type": "code",
   "execution_count": 8,
   "id": "dab11e59",
   "metadata": {},
   "outputs": [],
   "source": [
    "def prime_checker(input_integer):\n",
    "    for x in range (2,input_integer):\n",
    "        if input_integer%x==0:\n",
    "            return False\n",
    "        else:\n",
    "            return True"
   ]
  },
  {
   "cell_type": "code",
   "execution_count": 9,
   "id": "bd8ca3d2",
   "metadata": {},
   "outputs": [
    {
     "data": {
      "text/plain": [
       "True"
      ]
     },
     "execution_count": 9,
     "metadata": {},
     "output_type": "execute_result"
    }
   ],
   "source": [
    "prime_checker(5)"
   ]
  },
  {
   "cell_type": "code",
   "execution_count": 10,
   "id": "146dc380",
   "metadata": {},
   "outputs": [
    {
     "data": {
      "text/plain": [
       "False"
      ]
     },
     "execution_count": 10,
     "metadata": {},
     "output_type": "execute_result"
    }
   ],
   "source": [
    "prime_checker(12)"
   ]
  },
  {
   "cell_type": "markdown",
   "id": "b8a34618",
   "metadata": {},
   "source": [
    "### Soal Nomor 2: Evenly Spaced Numbers between X and Y"
   ]
  },
  {
   "cell_type": "markdown",
   "id": "b41c2710",
   "metadata": {},
   "source": [
    "Buatlah sebuah fungsi yang menerima 3 input:\n",
    "- Bilangan pertama (X)\n",
    "- Bilangan kedua (Y)\n",
    "- Bilangan ketiga (n)\n",
    "\n",
    "Output dari fungsi ini adalah list yang isinya adalah sejumlah 'n' anggota, dengan anggota pertama 'X', dan anggota terakhir 'Y', dan sisanya adalah bilangan-bilangan di antara 'X' dan 'Y', sedemikian sehingga jarak antar anggota adalah sama.\n",
    "\n",
    "\n",
    "Contoh 1: \n",
    "\n",
    "`even_space(1, 6, 5)`\n",
    "\n",
    "Berarti, di list hasil kita, angka pertama adalah 1, angka terakhir adalah 6, dan list hasil ini harus memiliki 5 anggota, dimana jarak antar anggota yang bersebelahan (berurutan) adalah sama. \n",
    "\n",
    "Output: ```[1.0, 2.25, 3.5, 4.75, 6.0]```\n",
    "\n",
    "Penjelasan: list output kita terdiri dari 5 bilangan, dengan bilangan pertama 1, bilangan akhir 6, dan perhatikan jarak antar anggota yang berurutan: \n",
    "- 2.25 - 1 = 1.25\n",
    "- 3.5 - 2.25 = 1.25\n",
    "- 4.75 - 3.5 = 1.25\n",
    "- 6 - 4.75 = 1.25\n",
    "\n",
    "\n",
    "\n"
   ]
  },
  {
   "cell_type": "markdown",
   "id": "86a118b0",
   "metadata": {},
   "source": [
    "Contoh 2: \n",
    "\n",
    "```even_space(2,8,4)```\n",
    "\n",
    "Output: ```[2,4,6,8]```\n",
    "\n",
    "Penjelasan: list output terdiri dari 4 bilangan, dengan bilangan pertama 2, bilangan akhir 8, dan jarak antar anggota yang bersebelahan (berurutan) adalah sama, yatu:\n",
    "- 4 - 2 = 2\n",
    "- 6 - 4 = 2\n",
    "- 8 - 6 = 2"
   ]
  },
  {
   "cell_type": "code",
   "execution_count": 21,
   "id": "c02f3e42",
   "metadata": {},
   "outputs": [],
   "source": [
    "def even_space(X, Y, n):\n",
    "    import numpy as np\n",
    "    return np.linspace(X, Y, n)"
   ]
  },
  {
   "cell_type": "code",
   "execution_count": 22,
   "id": "9a0b614a",
   "metadata": {},
   "outputs": [
    {
     "data": {
      "text/plain": [
       "array([2., 4., 6., 8.])"
      ]
     },
     "execution_count": 22,
     "metadata": {},
     "output_type": "execute_result"
    }
   ],
   "source": [
    "even_space(2,8,4)"
   ]
  },
  {
   "cell_type": "code",
   "execution_count": 23,
   "id": "edd23af7",
   "metadata": {},
   "outputs": [],
   "source": [
    "def even_space(X, Y, n):\n",
    "    import numpy as np\n",
    "    return np.linspace(X, Y, n, dtype=int)"
   ]
  },
  {
   "cell_type": "code",
   "execution_count": 24,
   "id": "5bddbdcd",
   "metadata": {},
   "outputs": [
    {
     "data": {
      "text/plain": [
       "array([2, 4, 6, 8])"
      ]
     },
     "execution_count": 24,
     "metadata": {},
     "output_type": "execute_result"
    }
   ],
   "source": [
    "even_space(2,8,4)"
   ]
  }
 ],
 "metadata": {
  "kernelspec": {
   "display_name": "Python 3 (ipykernel)",
   "language": "python",
   "name": "python3"
  },
  "language_info": {
   "codemirror_mode": {
    "name": "ipython",
    "version": 3
   },
   "file_extension": ".py",
   "mimetype": "text/x-python",
   "name": "python",
   "nbconvert_exporter": "python",
   "pygments_lexer": "ipython3",
   "version": "3.9.13"
  }
 },
 "nbformat": 4,
 "nbformat_minor": 5
}
